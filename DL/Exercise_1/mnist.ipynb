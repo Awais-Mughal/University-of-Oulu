{
 "cells": [
  {
   "cell_type": "code",
   "execution_count": 1,
   "metadata": {},
   "outputs": [],
   "source": [
    "import torch"
   ]
  },
  {
   "cell_type": "code",
   "execution_count": 2,
   "metadata": {},
   "outputs": [
    {
     "data": {
      "text/plain": [
       "'1.13.1.post200'"
      ]
     },
     "execution_count": 2,
     "metadata": {},
     "output_type": "execute_result"
    }
   ],
   "source": [
    "torch.__version__"
   ]
  },
  {
   "cell_type": "code",
   "execution_count": 3,
   "metadata": {},
   "outputs": [],
   "source": [
    "import numpy as np\n",
    "import torch\n",
    "import torch.nn as nn\n",
    "import torch.nn.functional as F\n",
    "\n",
    "\n",
    "from torchvision import transforms\n",
    "from torchvision.datasets import MNIST\n",
    "import torchvision"
   ]
  },
  {
   "cell_type": "code",
   "execution_count": 4,
   "metadata": {},
   "outputs": [
    {
     "name": "stdout",
     "output_type": "stream",
     "text": [
      "Downloading http://yann.lecun.com/exdb/mnist/train-images-idx3-ubyte.gz\n",
      "Downloading http://yann.lecun.com/exdb/mnist/train-images-idx3-ubyte.gz to ./data/MNIST/raw/train-images-idx3-ubyte.gz\n"
     ]
    },
    {
     "data": {
      "application/vnd.jupyter.widget-view+json": {
       "model_id": "",
       "version_major": 2,
       "version_minor": 0
      },
      "text/plain": [
       "  0%|          | 0/9912422 [00:00<?, ?it/s]"
      ]
     },
     "metadata": {},
     "output_type": "display_data"
    },
    {
     "name": "stdout",
     "output_type": "stream",
     "text": [
      "Extracting ./data/MNIST/raw/train-images-idx3-ubyte.gz to ./data/MNIST/raw\n",
      "\n",
      "Downloading http://yann.lecun.com/exdb/mnist/train-labels-idx1-ubyte.gz\n",
      "Downloading http://yann.lecun.com/exdb/mnist/train-labels-idx1-ubyte.gz to ./data/MNIST/raw/train-labels-idx1-ubyte.gz\n"
     ]
    },
    {
     "data": {
      "application/vnd.jupyter.widget-view+json": {
       "model_id": "",
       "version_major": 2,
       "version_minor": 0
      },
      "text/plain": [
       "  0%|          | 0/28881 [00:00<?, ?it/s]"
      ]
     },
     "metadata": {},
     "output_type": "display_data"
    },
    {
     "name": "stdout",
     "output_type": "stream",
     "text": [
      "Extracting ./data/MNIST/raw/train-labels-idx1-ubyte.gz to ./data/MNIST/raw\n",
      "\n",
      "Downloading http://yann.lecun.com/exdb/mnist/t10k-images-idx3-ubyte.gz\n",
      "Downloading http://yann.lecun.com/exdb/mnist/t10k-images-idx3-ubyte.gz to ./data/MNIST/raw/t10k-images-idx3-ubyte.gz\n"
     ]
    },
    {
     "data": {
      "application/vnd.jupyter.widget-view+json": {
       "model_id": "",
       "version_major": 2,
       "version_minor": 0
      },
      "text/plain": [
       "  0%|          | 0/1648877 [00:00<?, ?it/s]"
      ]
     },
     "metadata": {},
     "output_type": "display_data"
    },
    {
     "name": "stdout",
     "output_type": "stream",
     "text": [
      "Extracting ./data/MNIST/raw/t10k-images-idx3-ubyte.gz to ./data/MNIST/raw\n",
      "\n",
      "Downloading http://yann.lecun.com/exdb/mnist/t10k-labels-idx1-ubyte.gz\n",
      "Downloading http://yann.lecun.com/exdb/mnist/t10k-labels-idx1-ubyte.gz to ./data/MNIST/raw/t10k-labels-idx1-ubyte.gz\n"
     ]
    },
    {
     "data": {
      "application/vnd.jupyter.widget-view+json": {
       "model_id": "",
       "version_major": 2,
       "version_minor": 0
      },
      "text/plain": [
       "  0%|          | 0/4542 [00:00<?, ?it/s]"
      ]
     },
     "metadata": {},
     "output_type": "display_data"
    },
    {
     "name": "stdout",
     "output_type": "stream",
     "text": [
      "Extracting ./data/MNIST/raw/t10k-labels-idx1-ubyte.gz to ./data/MNIST/raw\n",
      "\n"
     ]
    }
   ],
   "source": [
    "# data\n",
    "\n",
    "train_set = MNIST('./data', train=True, download=True,\n",
    "        transform=transforms.Compose([transforms.ToTensor()]))\n",
    "test_set = MNIST('./data', train=False, download=True,\n",
    "        transform=transforms.Compose([transforms.ToTensor()]))\n",
    "\n",
    "train_loader = torch.utils.data.DataLoader(train_set, batch_size=100, shuffle=True)\n",
    "test_loader = torch.utils.data.DataLoader(test_set, batch_size=100, shuffle=True)"
   ]
  },
  {
   "cell_type": "code",
   "execution_count": 5,
   "metadata": {},
   "outputs": [],
   "source": [
    "# Model\n",
    "\n",
    "class Model(nn.Module):\n",
    "    def __init__(self):\n",
    "\n",
    "        super(Model,self).__init__()\n",
    "\n",
    "        # first layer\n",
    "        self.conv1 = nn.Conv2d(1, 24, kernel_size=3, stride=2, padding=1, bias=False)\n",
    "        self.bn1 = nn.BatchNorm2d(24)\n",
    "        self.relu1 = nn.ReLU()\n",
    "\n",
    "        # second layer\n",
    "        self.conv2 = nn.Conv2d(24, 32, kernel_size=3, stride=2, padding=1, bias=False)\n",
    "        self.bn2 = nn.BatchNorm2d(32)\n",
    "        self.relu2 = nn.ReLU()\n",
    "\n",
    "        self.fc = nn.Linear(32 * 7 * 7, 10)\n",
    "\n",
    "    def forward(self, x):\n",
    "\n",
    "        # shape of x is : 100 x 1 x 28 x 28\n",
    "        x = self.conv1(x)\n",
    "        x = self.bn1(x)\n",
    "        x = self.relu1(x)\n",
    "\n",
    "        x = self.conv2(x)\n",
    "        x = self.bn2(x)\n",
    "        x = self.relu2(x)\n",
    "\n",
    "        x = x.view(-1, 32 * 7 * 7)\n",
    "        logits = self.fc(x)\n",
    "\n",
    "        return logits"
   ]
  },
  {
   "cell_type": "code",
   "execution_count": 6,
   "metadata": {},
   "outputs": [
    {
     "name": "stdout",
     "output_type": "stream",
     "text": [
      "Epoch 00 | 1/600 | Loss: 2.154606\n",
      "Epoch 00 | 101/600 | Loss: 0.279108\n",
      "Epoch 00 | 201/600 | Loss: 0.113408\n",
      "Epoch 00 | 301/600 | Loss: 0.188511\n",
      "Epoch 00 | 401/600 | Loss: 0.086836\n",
      "Epoch 00 | 501/600 | Loss: 0.064984\n",
      "\\Epoch 00 | Test accuracy 0.981700\n",
      "\n",
      "Epoch 01 | 1/600 | Loss: 0.040154\n",
      "Epoch 01 | 101/600 | Loss: 0.046620\n",
      "Epoch 01 | 201/600 | Loss: 0.093810\n",
      "Epoch 01 | 301/600 | Loss: 0.083240\n",
      "Epoch 01 | 401/600 | Loss: 0.023461\n",
      "Epoch 01 | 501/600 | Loss: 0.077097\n",
      "\\Epoch 01 | Test accuracy 0.980100\n",
      "\n"
     ]
    }
   ],
   "source": [
    "# Training scheme\n",
    "model = Model()\n",
    "\n",
    "optimizer = torch.optim.Adam(model.parameters(), lr=1e-3)\n",
    "\n",
    "for epoch in range(2):\n",
    "\n",
    "    # train\n",
    "    model.train()\n",
    "\n",
    "    for batch_idx, (data, target) in enumerate(train_loader):\n",
    "\n",
    "        logits = model(data)\n",
    "        loss = F.cross_entropy(logits, target)\n",
    "\n",
    "        # clear the old gradients if have\n",
    "        optimizer.zero_grad()\n",
    "\n",
    "        # backward propagation\n",
    "        loss.backward()\n",
    "\n",
    "        # update the parameters by using gradient descent algorithm\n",
    "        optimizer.step()\n",
    "\n",
    "        # print the results\n",
    "        if batch_idx % 100 ==1:\n",
    "            print('Epoch %02d | %d/%d | Loss: %.6f' % (epoch, batch_idx, len(train_loader), loss.item()))\n",
    "\n",
    "\n",
    "    # evaluate the accuracy on the test\n",
    "    model.eval()\n",
    "    total = 0.0\n",
    "    for batch_idx , (data, target) in enumerate(test_loader):\n",
    "\n",
    "        logits = model(data)\n",
    "        prob = F.softmax(logits, dim=1)\n",
    "        pred = prob.data.argmax(dim=1)\n",
    "        total += pred.eq(target.data).sum()\n",
    "\n",
    "    accuracy = total / len(test_set)\n",
    "\n",
    "    print('\\Epoch %02d | Test accuracy %.6f\\n' % (epoch, accuracy.item()))"
   ]
  },
  {
   "cell_type": "code",
   "execution_count": 20,
   "metadata": {},
   "outputs": [
    {
     "data": {
      "image/png": "[encoded data removed]",
      "text/plain": [
       "<Figure size 640x480 with 5 Axes>"
      ]
     },
     "metadata": {},
     "output_type": "display_data"
    }
   ],
   "source": [
    "import matplotlib.pyplot as plt\n",
    "\n",
    "img, val  = next(iter(test_loader))\n",
    "logits = model(img)\n",
    "\n",
    "\n",
    "prob = F.softmax(logits, dim=1)\n",
    "pred = prob.data.argmax(dim=1)\n",
    "\n",
    "fig,ax = plt.subplots(1,5)\n",
    "for i in range(0,5):\n",
    "    ax[i].imshow(img[i].detach().cpu().numpy()[0,:,:],cmap=\"gray\")\n",
    "    ax[i].set_title(pred[i].item())\n",
    "plt.show()"
   ]
  },
  {
   "cell_type": "code",
   "execution_count": null,
   "metadata": {},
   "outputs": [],
   "source": []
  }
 ],
 "metadata": {
  "kernelspec": {
   "display_name": "Python 3 (ipykernel)",
   "language": "python",
   "name": "python3"
  },
  "language_info": {
   "codemirror_mode": {
    "name": "ipython",
    "version": 3
   },
   "file_extension": ".py",
   "mimetype": "text/x-python",
   "name": "python",
   "nbconvert_exporter": "python",
   "pygments_lexer": "ipython3",
   "version": "3.9.16"
  }
 },
 "nbformat": 4,
 "nbformat_minor": 4
}
